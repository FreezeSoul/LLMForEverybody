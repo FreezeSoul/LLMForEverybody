{
 "cells": [
  {
   "cell_type": "markdown",
   "metadata": {},
   "source": [
    "你知道周期性函数只要满足狄利克雷条件，傅里叶级数就可以完美地表示它；\n",
    "你知道在没有观测之前，原子处于衰变和未衰变的叠加状态，因此薛定谔的猫也处于既死又活的叠加状态，直到有人打开盒子进行观测；\n",
    "你知道世事洞明皆学问，人情练达即文章；\n",
    "你知道如何让800kg的牛安全通过700kg承重的桥；\n",
    "你知道夏目漱石将I Love You翻译成今晚月色真美；\n",
    "你却不知道怎么和喜欢的人沟通，聊天框里总是“在吗？”\n"
   ]
  },
  {
   "cell_type": "code",
   "execution_count": null,
   "metadata": {},
   "outputs": [],
   "source": []
  }
 ],
 "metadata": {
  "kernelspec": {
   "display_name": "datascience",
   "language": "python",
   "name": "python3"
  },
  "language_info": {
   "codemirror_mode": {
    "name": "ipython",
    "version": 3
   },
   "file_extension": ".py",
   "mimetype": "text/x-python",
   "name": "python",
   "nbconvert_exporter": "python",
   "pygments_lexer": "ipython3",
   "version": "3.10.14"
  }
 },
 "nbformat": 4,
 "nbformat_minor": 2
}
